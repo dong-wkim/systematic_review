{
 "cells": [
  {
   "cell_type": "markdown",
   "id": "e16ca440-96c8-43ef-9d58-569ed27c7926",
   "metadata": {},
   "source": [
    "# Supplementary File 2\n",
    "\n",
    "Documentation of python scripts used for deduplication of search results (records)."
   ]
  },
  {
   "cell_type": "markdown",
   "id": "aeceb371-df67-4263-b4e1-72173030bade",
   "metadata": {},
   "source": [
    "---"
   ]
  },
  {
   "cell_type": "markdown",
   "id": "c8199b27-891b-4e8e-b0a9-cbc820ffcc76",
   "metadata": {},
   "source": [
    "**deduplication.py**\n",
    "\n",
    "Custom python script to deduplicate based on selected column(s)."
   ]
  },
  {
   "cell_type": "code",
   "execution_count": 96,
   "id": "3abbd052-922d-4985-84fb-e4ec7a7449cb",
   "metadata": {},
   "outputs": [
    {
     "name": "stdin",
     "output_type": "stream",
     "text": [
      "Enter file name:  records\n",
      "Enter the columns for which to deduplicate based on:  doi\n"
     ]
    },
    {
     "ename": "NameError",
     "evalue": "name 'prisma_file_name' is not defined",
     "output_type": "error",
     "traceback": [
      "\u001b[31m---------------------------------------------------------------------------\u001b[39m",
      "\u001b[31mNameError\u001b[39m                                 Traceback (most recent call last)",
      "\u001b[36mCell\u001b[39m\u001b[36m \u001b[39m\u001b[32mIn[96]\u001b[39m\u001b[32m, line 71\u001b[39m\n\u001b[32m     45\u001b[39m results, df_deduplicated, df_kept, df_removed = deduplicate(df=\u001b[38;5;28;01mNone\u001b[39;00m, cols=\u001b[38;5;28;01mNone\u001b[39;00m)\n\u001b[32m     47\u001b[39m graph_text = \u001b[33mf\u001b[39m\u001b[33m\"\"\"\u001b[39m\n\u001b[32m     48\u001b[39m \u001b[33m---\u001b[39m\n\u001b[32m     49\u001b[39m \u001b[33mconfig:\u001b[39m\n\u001b[32m   (...)\u001b[39m\u001b[32m     68\u001b[39m \u001b[33mB & H --> I\u001b[39m\n\u001b[32m     69\u001b[39m \u001b[33m\u001b[39m\u001b[33m\"\"\"\u001b[39m\n\u001b[32m---> \u001b[39m\u001b[32m71\u001b[39m \u001b[38;5;28;01mwith\u001b[39;00m \u001b[38;5;28mopen\u001b[39m(\u001b[43mprisma_file_name\u001b[49m, \u001b[33m\"\u001b[39m\u001b[33mw\u001b[39m\u001b[33m\"\u001b[39m) \u001b[38;5;28;01mas\u001b[39;00m f:\n\u001b[32m     72\u001b[39m     f.write(graph_text)\n",
      "\u001b[31mNameError\u001b[39m: name 'prisma_file_name' is not defined"
     ]
    }
   ],
   "source": [
    "import pandas as pd\n",
    "import numpy as np\n",
    "import mermaid as md\n",
    "from mermaid.graph import Graph\n",
    "\n",
    "def deduplicate(df, cols):\n",
    "    input_file_name = 'data/' + input('Enter file name: ') + '.csv'\n",
    "    df = pd.read_csv(input_file_name) # A (records)\n",
    "    cols_input = input('Enter the columns for which to deduplicate based on: ')\n",
    "    cols = [c.strip() for c in cols_input.split(',')]\n",
    "    output_file_name = 'data/' + '_'.join(cols) + '_deduplicated.csv'\n",
    "    prisma_file_name = output_file_name.replace('.csv', 'mmd')\n",
    "    \n",
    "    nulls_mask = df[cols].isnull().any(axis=1)\n",
    "    df_nulls = df[nulls_mask] # B\n",
    "    df_non_nulls = df[~nulls_mask] # C\n",
    "    \n",
    "    duplicates_mask = df_non_nulls.duplicated(subset = cols, keep = False)\n",
    "    df_non_duplicates = df_non_nulls[~duplicates_mask] # D\n",
    "    df_duplicates = df_non_nulls[duplicates_mask] # E\n",
    "    df_kept = df_duplicates.drop_duplicates(subset = cols, keep = 'first')\n",
    "    df_removed = df_duplicates[~df_duplicates.index.isin(df_kept.index)]\n",
    "    df_unique = df_non_nulls.drop_duplicates(subset = cols, keep = 'first') # df of unique\n",
    "    df_deduplicated = pd.concat([df_unique, df_nulls], ignore_index=True) # df of unique + df of nulls\n",
    "\n",
    "    results = {\n",
    "        \"records\": len(df),\n",
    "        \"nulls\": len(df_nulls),\n",
    "        \"non_nulls\": len(df_non_nulls),\n",
    "        \"non_duplicates\": len(df_non_duplicates),\n",
    "        \"duplicates\": len(df_duplicates),\n",
    "        \"removed\": len(df_removed),\n",
    "        \"kept\": len(df_kept),\n",
    "        \"unique\": len(df_unique),\n",
    "        \"deduplicated\": len(df_deduplicated)\n",
    "    }\n",
    "    \n",
    "    df_deduplicated.to_csv(output_file_name, index = False)\n",
    "    df_removed.to_csv(output_file_name.replace('.csv', '_removed.csv'), index = False)\n",
    "\n",
    "    \n",
    "    return results, df_deduplicated, df_kept, df_removed\n",
    "\n",
    "if __name__ == \"__main__\":\n",
    "    results, df_deduplicated, df_kept, df_removed = deduplicate(df=None, cols=None)\n",
    "    \n",
    "    graph_text = f\"\"\"\n",
    "    ---\n",
    "    config:\n",
    "      theme: neutral\n",
    "      curve: stepBefore\n",
    "    ---\n",
    "    graph TD;\n",
    "    A[\"**records** (*n* = {results['records']})\"];\n",
    "    B[\"null (*n* = {results['nulls']})\"];\n",
    "    C[\"non-null (*n* = {results['non_nulls']})\"];\n",
    "    D[\"non-duplicates (*n* = {results['non_duplicates']})\"];\n",
    "    E[\"duplicates (*n* = {results['duplicates']})\"];\n",
    "    F[\"duplicates kept (*n* = {results['kept']})\"];\n",
    "    G[\"duplicates removed (*n* = {results['removed']})\"];\n",
    "    H[\"unique (*n* = {results['unique']})\"];\n",
    "    I[\"deduplicated (*n* = {results['deduplicated']})\"];\n",
    "    \n",
    "    A --> B & C;\n",
    "    C --> D & E;\n",
    "    E --> F & G;\n",
    "    D & F --> H;\n",
    "    B & H --> I\n",
    "    \"\"\"\n",
    "\n",
    "    with open(prisma_file_name, \"w\") as f:\n",
    "        f.write(graph_text)\n"
   ]
  },
  {
   "cell_type": "markdown",
   "id": "71411a6b-14df-498a-9995-cd06adbf13ae",
   "metadata": {},
   "source": [
    "---"
   ]
  },
  {
   "cell_type": "markdown",
   "id": "37fcced7-fcea-4472-ac94-9c67dd4d12e3",
   "metadata": {},
   "source": [
    "## 1. Deduplication of records based on DOI"
   ]
  },
  {
   "cell_type": "code",
   "execution_count": 61,
   "id": "4ac8c3b5-547a-4bf3-a3e3-7969a05e1116",
   "metadata": {},
   "outputs": [
    {
     "name": "stdout",
     "output_type": "stream",
     "text": [
      "records:      376\n",
      "blank:         46\n",
      "unique:       236\n",
      "removed:       94\n",
      "deduplicated: 282\n"
     ]
    }
   ],
   "source": [
    "import pandas as pd\n",
    "import numpy as np\n",
    "import openpyxl\n",
    "import csv\n",
    "\n",
    "df = pd.read_csv('data/records.csv')\n",
    "df.head()\n",
    "\n",
    "# masks\n",
    "doi_blank = df['doi'].isnull()\n",
    "doi_duplicates = df[~doi_blank].duplicated(subset = 'doi', keep = 'first')\n",
    "\n",
    "# data frames\n",
    "doi = df[~doi_blank] # df of non-nulls\n",
    "doi_unique = doi.drop_duplicates(subset = 'doi', keep = 'first') # df of uniques\n",
    "doi_deduplicated = pd.concat([doi_unique, df[doi_blank]], ignore_index=True) # df of uniques + nulls\n",
    "doi_removed = doi[doi_duplicates]\n",
    "\n",
    "records = len(df)\n",
    "blank = len(df[doi_blank])\n",
    "unique = len(doi_unique)\n",
    "deduplicated = len(doi_deduplicated)\n",
    "doi_removed = len(doi_removed)\n",
    "\n",
    "print('records:     ', records)\n",
    "print('blank:        ', blank) \n",
    "print('unique:      ', unique)\n",
    "print('removed:      ' , doi_removed)\n",
    "print('deduplicated:' , deduplicated)\n",
    "\n",
    "\n",
    "# Second pass: deduplication based on study_id"
   ]
  },
  {
   "cell_type": "markdown",
   "id": "bba847ce-842a-4c2c-a0a9-c4c30aead3e9",
   "metadata": {},
   "source": [
    "## 2. Deduplication of records based on author and year of publication"
   ]
  },
  {
   "cell_type": "markdown",
   "id": "8ef60893-1701-4098-af83-9a3e8f890fa1",
   "metadata": {},
   "source": [
    "## PRISMA flowchart (mermaid diagram)"
   ]
  },
  {
   "cell_type": "code",
   "execution_count": 95,
   "id": "572fd1b7-9334-4716-a773-2388cde2c218",
   "metadata": {},
   "outputs": [
    {
     "data": {
      "text/html": [
       "<svg id=\"mermaidInkSvg\" width=\"100%\" xmlns=\"http://www.w3.org/2000/svg\" viewBox=\"0 0 2412 512\" style=\"max-width: 512px;\" role=\"graphics-document document\" aria-roledescription=\"error\" xmlns:xlink=\"http://www.w3.org/1999/xlink\"><style xmlns=\"http://www.w3.org/1999/xhtml\">@import url(\"https://cdnjs.cloudflare.com/ajax/libs/font-awesome/6.7.2/css/all.min.css\");</style><style xmlns=\"http://www.w3.org/1999/xhtml\">#mermaidInkSvg{font-family:\"trebuchet ms\",verdana,arial,sans-serif;font-size:16px;fill:#333;}@keyframes edge-animation-frame{from{stroke-dashoffset:0;}}@keyframes dash{to{stroke-dashoffset:0;}}#mermaidInkSvg .edge-animation-slow{stroke-dasharray:9,5!important;stroke-dashoffset:900;animation:dash 50s linear infinite;stroke-linecap:round;}#mermaidInkSvg .edge-animation-fast{stroke-dasharray:9,5!important;stroke-dashoffset:900;animation:dash 20s linear infinite;stroke-linecap:round;}#mermaidInkSvg .error-icon{fill:#552222;}#mermaidInkSvg .error-text{fill:#552222;stroke:#552222;}#mermaidInkSvg .edge-thickness-normal{stroke-width:1px;}#mermaidInkSvg .edge-thickness-thick{stroke-width:3.5px;}#mermaidInkSvg .edge-pattern-solid{stroke-dasharray:0;}#mermaidInkSvg .edge-thickness-invisible{stroke-width:0;fill:none;}#mermaidInkSvg .edge-pattern-dashed{stroke-dasharray:3;}#mermaidInkSvg .edge-pattern-dotted{stroke-dasharray:2;}#mermaidInkSvg .marker{fill:#333333;stroke:#333333;}#mermaidInkSvg .marker.cross{stroke:#333333;}#mermaidInkSvg svg{font-family:\"trebuchet ms\",verdana,arial,sans-serif;font-size:16px;}#mermaidInkSvg p{margin:0;}#mermaidInkSvg :root{--mermaid-font-family:\"trebuchet ms\",verdana,arial,sans-serif;}</style><g/><g><path class=\"error-icon\" d=\"m411.313,123.313c6.25-6.25 6.25-16.375 0-22.625s-16.375-6.25-22.625,0l-32,32-9.375,9.375-20.688-20.688c-12.484-12.5-32.766-12.5-45.25,0l-16,16c-1.261,1.261-2.304,2.648-3.31,4.051-21.739-8.561-45.324-13.426-70.065-13.426-105.867,0-192,86.133-192,192s86.133,192 192,192 192-86.133 192-192c0-24.741-4.864-48.327-13.426-70.065 1.402-1.007 2.79-2.049 4.051-3.31l16-16c12.5-12.492 12.5-32.758 0-45.25l-20.688-20.688 9.375-9.375 32.001-31.999zm-219.313,100.687c-52.938,0-96,43.063-96,96 0,8.836-7.164,16-16,16s-16-7.164-16-16c0-70.578 57.422-128 128-128 8.836,0 16,7.164 16,16s-7.164,16-16,16z\"/><path class=\"error-icon\" d=\"m459.02,148.98c-6.25-6.25-16.375-6.25-22.625,0s-6.25,16.375 0,22.625l16,16c3.125,3.125 7.219,4.688 11.313,4.688 4.094,0 8.188-1.563 11.313-4.688 6.25-6.25 6.25-16.375 0-22.625l-16.001-16z\"/><path class=\"error-icon\" d=\"m340.395,75.605c3.125,3.125 7.219,4.688 11.313,4.688 4.094,0 8.188-1.563 11.313-4.688 6.25-6.25 6.25-16.375 0-22.625l-16-16c-6.25-6.25-16.375-6.25-22.625,0s-6.25,16.375 0,22.625l15.999,16z\"/><path class=\"error-icon\" d=\"m400,64c8.844,0 16-7.164 16-16v-32c0-8.836-7.156-16-16-16-8.844,0-16,7.164-16,16v32c0,8.836 7.156,16 16,16z\"/><path class=\"error-icon\" d=\"m496,96.586h-32c-8.844,0-16,7.164-16,16 0,8.836 7.156,16 16,16h32c8.844,0 16-7.164 16-16 0-8.836-7.156-16-16-16z\"/><path class=\"error-icon\" d=\"m436.98,75.605c3.125,3.125 7.219,4.688 11.313,4.688 4.094,0 8.188-1.563 11.313-4.688l32-32c6.25-6.25 6.25-16.375 0-22.625s-16.375-6.25-22.625,0l-32,32c-6.251,6.25-6.251,16.375-0.001,22.625z\"/><text class=\"error-text\" x=\"1440\" y=\"250\" font-size=\"150px\" style=\"text-anchor: middle;\">Syntax error in text</text><text class=\"error-text\" x=\"1250\" y=\"400\" font-size=\"100px\" style=\"text-anchor: middle;\">mermaid version 11.12.0</text></g></svg>"
      ],
      "text/plain": [
       "<mermaid.__main__.Mermaid at 0x25629e6bc50>"
      ]
     },
     "execution_count": 95,
     "metadata": {},
     "output_type": "execute_result"
    }
   ],
   "source": [
    "import mermaid as md\n",
    "from mermaid.graph import Graph\n",
    "\n",
    "graph = Graph('example-graph', \"\"\"\n",
    "---\n",
    "config:\n",
    "    theme: neutral\n",
    "    curve: stepBefore\n",
    "---\n",
    "graph TD;\n",
    "    A[\"**records** (*n* = 376)\"];\n",
    "    B[\"null (*n* = 46)\"];\n",
    "    C[\"non-null (*n* = 330)\"];\n",
    "    D[\"non-duplicates (*n* = 142)\"];\n",
    "    E[\"duplicates (*n* = 188)\"];\n",
    "    F[\"duplicates kept (*n* = 94)\"];\n",
    "    G[\"duplicates removed (*n* = 94)\"];\n",
    "    H[\"unique (*n* = 236)\"];\n",
    "    I[\"deduplicated (*n* = 282)\"];\n",
    "\n",
    "    A --> B & C;\n",
    "    C --> D & E;\n",
    "    E --> F & G;\n",
    "    D & F --> H;\n",
    "    B & H --> I\n",
    "    \"\"\")\n",
    "\n",
    "render = md.Mermaid(graph)\n",
    "render"
   ]
  },
  {
   "cell_type": "code",
   "execution_count": 86,
   "id": "1113e7fc-44a2-477a-ae24-c5209be29d67",
   "metadata": {},
   "outputs": [
    {
     "data": {
      "text/html": [
       "<svg id=\"mermaidInkSvg\" width=\"100%\" xmlns=\"http://www.w3.org/2000/svg\" class=\"flowchart\" style=\"max-width: 971.7890625px;\" viewBox=\"0 0 971.7890625 590\" role=\"graphics-document document\" aria-roledescription=\"flowchart-v2\" xmlns:xlink=\"http://www.w3.org/1999/xlink\"><style xmlns=\"http://www.w3.org/1999/xhtml\">@import url(\"https://cdnjs.cloudflare.com/ajax/libs/font-awesome/6.7.2/css/all.min.css\");</style><style>#mermaidInkSvg{font-family:\"trebuchet ms\",verdana,arial,sans-serif;font-size:16px;fill:#333;}@keyframes edge-animation-frame{from{stroke-dashoffset:0;}}@keyframes dash{to{stroke-dashoffset:0;}}#mermaidInkSvg .edge-animation-slow{stroke-dasharray:9,5!important;stroke-dashoffset:900;animation:dash 50s linear infinite;stroke-linecap:round;}#mermaidInkSvg .edge-animation-fast{stroke-dasharray:9,5!important;stroke-dashoffset:900;animation:dash 20s linear infinite;stroke-linecap:round;}#mermaidInkSvg .error-icon{fill:#552222;}#mermaidInkSvg .error-text{fill:#552222;stroke:#552222;}#mermaidInkSvg .edge-thickness-normal{stroke-width:1px;}#mermaidInkSvg .edge-thickness-thick{stroke-width:3.5px;}#mermaidInkSvg .edge-pattern-solid{stroke-dasharray:0;}#mermaidInkSvg .edge-thickness-invisible{stroke-width:0;fill:none;}#mermaidInkSvg .edge-pattern-dashed{stroke-dasharray:3;}#mermaidInkSvg .edge-pattern-dotted{stroke-dasharray:2;}#mermaidInkSvg .marker{fill:#333333;stroke:#333333;}#mermaidInkSvg .marker.cross{stroke:#333333;}#mermaidInkSvg svg{font-family:\"trebuchet ms\",verdana,arial,sans-serif;font-size:16px;}#mermaidInkSvg p{margin:0;}#mermaidInkSvg .label{font-family:\"trebuchet ms\",verdana,arial,sans-serif;color:#333;}#mermaidInkSvg .cluster-label text{fill:#333;}#mermaidInkSvg .cluster-label span{color:#333;}#mermaidInkSvg .cluster-label span p{background-color:transparent;}#mermaidInkSvg .label text,#mermaidInkSvg span{fill:#333;color:#333;}#mermaidInkSvg .node rect,#mermaidInkSvg .node circle,#mermaidInkSvg .node ellipse,#mermaidInkSvg .node polygon,#mermaidInkSvg .node path{fill:#ECECFF;stroke:#9370DB;stroke-width:1px;}#mermaidInkSvg .rough-node .label text,#mermaidInkSvg .node .label text,#mermaidInkSvg .image-shape .label,#mermaidInkSvg .icon-shape .label{text-anchor:middle;}#mermaidInkSvg .node .katex path{fill:#000;stroke:#000;stroke-width:1px;}#mermaidInkSvg .rough-node .label,#mermaidInkSvg .node .label,#mermaidInkSvg .image-shape .label,#mermaidInkSvg .icon-shape .label{text-align:center;}#mermaidInkSvg .node.clickable{cursor:pointer;}#mermaidInkSvg .root .anchor path{fill:#333333!important;stroke-width:0;stroke:#333333;}#mermaidInkSvg .arrowheadPath{fill:#333333;}#mermaidInkSvg .edgePath .path{stroke:#333333;stroke-width:2.0px;}#mermaidInkSvg .flowchart-link{stroke:#333333;fill:none;}#mermaidInkSvg .edgeLabel{background-color:rgba(232,232,232, 0.8);text-align:center;}#mermaidInkSvg .edgeLabel p{background-color:rgba(232,232,232, 0.8);}#mermaidInkSvg .edgeLabel rect{opacity:0.5;background-color:rgba(232,232,232, 0.8);fill:rgba(232,232,232, 0.8);}#mermaidInkSvg .labelBkg{background-color:rgba(232, 232, 232, 0.5);}#mermaidInkSvg .cluster rect{fill:#ffffde;stroke:#aaaa33;stroke-width:1px;}#mermaidInkSvg .cluster text{fill:#333;}#mermaidInkSvg .cluster span{color:#333;}#mermaidInkSvg div.mermaidTooltip{position:absolute;text-align:center;max-width:200px;padding:2px;font-family:\"trebuchet ms\",verdana,arial,sans-serif;font-size:12px;background:hsl(80, 100%, 96.2745098039%);border:1px solid #aaaa33;border-radius:2px;pointer-events:none;z-index:100;}#mermaidInkSvg .flowchartTitleText{text-anchor:middle;font-size:18px;fill:#333;}#mermaidInkSvg rect.text{fill:none;stroke-width:0;}#mermaidInkSvg .icon-shape,#mermaidInkSvg .image-shape{background-color:rgba(232,232,232, 0.8);text-align:center;}#mermaidInkSvg .icon-shape p,#mermaidInkSvg .image-shape p{background-color:rgba(232,232,232, 0.8);padding:2px;}#mermaidInkSvg .icon-shape rect,#mermaidInkSvg .image-shape rect{opacity:0.5;background-color:rgba(232,232,232, 0.8);fill:rgba(232,232,232, 0.8);}#mermaidInkSvg .label-icon{display:inline-block;height:1em;overflow:visible;vertical-align:-0.125em;}#mermaidInkSvg .node .label-icon path{fill:currentColor;stroke:revert;stroke-width:revert;}#mermaidInkSvg :root{--mermaid-font-family:\"trebuchet ms\",verdana,arial,sans-serif;}</style><g><marker id=\"mermaidInkSvg_flowchart-v2-pointEnd\" class=\"marker flowchart-v2\" viewBox=\"0 0 10 10\" refX=\"5\" refY=\"5\" markerUnits=\"userSpaceOnUse\" markerWidth=\"8\" markerHeight=\"8\" orient=\"auto\"><path d=\"M 0 0 L 10 5 L 0 10 z\" class=\"arrowMarkerPath\" style=\"stroke-width: 1; stroke-dasharray: 1, 0;\"/></marker><marker id=\"mermaidInkSvg_flowchart-v2-pointStart\" class=\"marker flowchart-v2\" viewBox=\"0 0 10 10\" refX=\"4.5\" refY=\"5\" markerUnits=\"userSpaceOnUse\" markerWidth=\"8\" markerHeight=\"8\" orient=\"auto\"><path d=\"M 0 5 L 10 10 L 10 0 z\" class=\"arrowMarkerPath\" style=\"stroke-width: 1; stroke-dasharray: 1, 0;\"/></marker><marker id=\"mermaidInkSvg_flowchart-v2-circleEnd\" class=\"marker flowchart-v2\" viewBox=\"0 0 10 10\" refX=\"11\" refY=\"5\" markerUnits=\"userSpaceOnUse\" markerWidth=\"11\" markerHeight=\"11\" orient=\"auto\"><circle cx=\"5\" cy=\"5\" r=\"5\" class=\"arrowMarkerPath\" style=\"stroke-width: 1; stroke-dasharray: 1, 0;\"/></marker><marker id=\"mermaidInkSvg_flowchart-v2-circleStart\" class=\"marker flowchart-v2\" viewBox=\"0 0 10 10\" refX=\"-1\" refY=\"5\" markerUnits=\"userSpaceOnUse\" markerWidth=\"11\" markerHeight=\"11\" orient=\"auto\"><circle cx=\"5\" cy=\"5\" r=\"5\" class=\"arrowMarkerPath\" style=\"stroke-width: 1; stroke-dasharray: 1, 0;\"/></marker><marker id=\"mermaidInkSvg_flowchart-v2-crossEnd\" class=\"marker cross flowchart-v2\" viewBox=\"0 0 11 11\" refX=\"12\" refY=\"5.2\" markerUnits=\"userSpaceOnUse\" markerWidth=\"11\" markerHeight=\"11\" orient=\"auto\"><path d=\"M 1,1 l 9,9 M 10,1 l -9,9\" class=\"arrowMarkerPath\" style=\"stroke-width: 2; stroke-dasharray: 1, 0;\"/></marker><marker id=\"mermaidInkSvg_flowchart-v2-crossStart\" class=\"marker cross flowchart-v2\" viewBox=\"0 0 11 11\" refX=\"-1\" refY=\"5.2\" markerUnits=\"userSpaceOnUse\" markerWidth=\"11\" markerHeight=\"11\" orient=\"auto\"><path d=\"M 1,1 l 9,9 M 10,1 l -9,9\" class=\"arrowMarkerPath\" style=\"stroke-width: 2; stroke-dasharray: 1, 0;\"/></marker><g class=\"root\"><g class=\"clusters\"/><g class=\"edgePaths\"><path d=\"M356.742,48.183L310.698,54.653C264.654,61.122,172.565,74.061,126.521,89.197C80.477,104.333,80.477,121.667,80.477,139C80.477,156.333,80.477,173.667,80.477,191C80.477,208.333,80.477,225.667,80.477,243C80.477,260.333,80.477,277.667,80.477,295C80.477,312.333,80.477,329.667,80.477,347C80.477,364.333,80.477,381.667,80.477,393.833C80.477,406,80.477,413,80.477,416.5L80.477,420\" id=\"L_A_B_0\" class=\"edge-thickness-normal edge-pattern-solid edge-thickness-normal edge-pattern-solid flowchart-link\" style=\";\" data-edge=\"true\" data-et=\"edge\" data-id=\"L_A_B_0\" data-points=\"W3sieCI6MzU2Ljc0MjE4NzUsInkiOjQ4LjE4MzMxNTAzODQxOTMyfSx7IngiOjgwLjQ3NjU2MjUsInkiOjg3fSx7IngiOjgwLjQ3NjU2MjUsInkiOjEzOX0seyJ4Ijo4MC40NzY1NjI1LCJ5IjoxOTF9LHsieCI6ODAuNDc2NTYyNSwieSI6MjQzfSx7IngiOjgwLjQ3NjU2MjUsInkiOjI5NX0seyJ4Ijo4MC40NzY1NjI1LCJ5IjozNDd9LHsieCI6ODAuNDc2NTYyNSwieSI6Mzk5fSx7IngiOjgwLjQ3NjU2MjUsInkiOjQyNH1d\" marker-end=\"url(#mermaidInkSvg_flowchart-v2-pointEnd)\"/><path d=\"M505.343,62L513.796,66.167C522.248,70.333,539.153,78.667,547.606,86.333C556.059,94,556.059,101,556.059,104.5L556.059,108\" id=\"L_A_C_0\" class=\"edge-thickness-normal edge-pattern-solid edge-thickness-normal edge-pattern-solid flowchart-link\" style=\";\" data-edge=\"true\" data-et=\"edge\" data-id=\"L_A_C_0\" data-points=\"W3sieCI6NTA1LjM0MzA3MzkxODI2OTIsInkiOjYyfSx7IngiOjU1Ni4wNTg1OTM3NSwieSI6ODd9LHsieCI6NTU2LjA1ODU5Mzc1LCJ5IjoxMTJ9XQ==\" marker-end=\"url(#mermaidInkSvg_flowchart-v2-pointEnd)\"/><path d=\"M463.121,155.419L429.554,161.349C395.987,167.279,328.853,179.14,295.286,193.736C261.719,208.333,261.719,225.667,261.719,243C261.719,260.333,261.719,277.667,261.719,289.833C261.719,302,261.719,309,261.719,312.5L261.719,316\" id=\"L_C_D_0\" class=\"edge-thickness-normal edge-pattern-solid edge-thickness-normal edge-pattern-solid flowchart-link\" style=\";\" data-edge=\"true\" data-et=\"edge\" data-id=\"L_C_D_0\" data-points=\"W3sieCI6NDYzLjEyMTA5Mzc1LCJ5IjoxNTUuNDE4OTQ1OTk5Mzg5NTR9LHsieCI6MjYxLjcxODc1LCJ5IjoxOTF9LHsieCI6MjYxLjcxODc1LCJ5IjoyNDN9LHsieCI6MjYxLjcxODc1LCJ5IjoyOTV9LHsieCI6MjYxLjcxODc1LCJ5IjozMjB9XQ==\" marker-end=\"url(#mermaidInkSvg_flowchart-v2-pointEnd)\"/><path d=\"M632.878,166L644.733,170.167C656.588,174.333,680.298,182.667,692.153,190.333C704.008,198,704.008,205,704.008,208.5L704.008,212\" id=\"L_C_E_0\" class=\"edge-thickness-normal edge-pattern-solid edge-thickness-normal edge-pattern-solid flowchart-link\" style=\";\" data-edge=\"true\" data-et=\"edge\" data-id=\"L_C_E_0\" data-points=\"W3sieCI6NjMyLjg3ODM4MDQwODY1MzgsInkiOjE2Nn0seyJ4Ijo3MDQuMDA3ODEyNSwieSI6MTkxfSx7IngiOjcwNC4wMDc4MTI1LCJ5IjoyMTZ9XQ==\" marker-end=\"url(#mermaidInkSvg_flowchart-v2-pointEnd)\"/><path d=\"M780.018,270L791.748,274.167C803.478,278.333,826.938,286.667,838.668,294.333C850.398,302,850.398,309,850.398,312.5L850.398,316\" id=\"L_E_F_0\" class=\"edge-thickness-normal edge-pattern-solid edge-thickness-normal edge-pattern-solid flowchart-link\" style=\";\" data-edge=\"true\" data-et=\"edge\" data-id=\"L_E_F_0\" data-points=\"W3sieCI6NzgwLjAxODMyOTMyNjkyMzEsInkiOjI3MH0seyJ4Ijo4NTAuMzk4NDM3NSwieSI6Mjk1fSx7IngiOjg1MC4zOTg0Mzc1LCJ5IjozMjB9XQ==\" marker-end=\"url(#mermaidInkSvg_flowchart-v2-pointEnd)\"/><path d=\"M627.997,270L616.267,274.167C604.537,278.333,581.077,286.667,569.347,294.333C557.617,302,557.617,309,557.617,312.5L557.617,316\" id=\"L_E_G_0\" class=\"edge-thickness-normal edge-pattern-solid edge-thickness-normal edge-pattern-solid flowchart-link\" style=\";\" data-edge=\"true\" data-et=\"edge\" data-id=\"L_E_G_0\" data-points=\"W3sieCI6NjI3Ljk5NzI5NTY3MzA3NjksInkiOjI3MH0seyJ4Ijo1NTcuNjE3MTg3NSwieSI6Mjk1fSx7IngiOjU1Ny42MTcxODc1LCJ5IjozMjB9XQ==\" marker-end=\"url(#mermaidInkSvg_flowchart-v2-pointEnd)\"/><path d=\"M261.719,374L261.719,378.167C261.719,382.333,261.719,390.667,295.369,400.778C329.019,410.89,396.319,422.779,429.969,428.724L463.62,434.669\" id=\"L_D_H_0\" class=\"edge-thickness-normal edge-pattern-solid edge-thickness-normal edge-pattern-solid flowchart-link\" style=\";\" data-edge=\"true\" data-et=\"edge\" data-id=\"L_D_H_0\" data-points=\"W3sieCI6MjYxLjcxODc1LCJ5IjozNzR9LHsieCI6MjYxLjcxODc1LCJ5IjozOTl9LHsieCI6NDY3LjU1ODU5Mzc1LCJ5Ijo0MzUuMzY1MDExNzQ1MDMzMjZ9XQ==\" marker-end=\"url(#mermaidInkSvg_flowchart-v2-pointEnd)\"/><path d=\"M850.398,374L850.398,378.167C850.398,382.333,850.398,390.667,816.748,400.778C783.098,410.89,715.798,422.779,682.148,428.724L648.498,434.669\" id=\"L_F_H_0\" class=\"edge-thickness-normal edge-pattern-solid edge-thickness-normal edge-pattern-solid flowchart-link\" style=\";\" data-edge=\"true\" data-et=\"edge\" data-id=\"L_F_H_0\" data-points=\"W3sieCI6ODUwLjM5ODQzNzUsInkiOjM3NH0seyJ4Ijo4NTAuMzk4NDM3NSwieSI6Mzk5fSx7IngiOjY0NC41NTg1OTM3NSwieSI6NDM1LjM2NTAxMTc0NTAzMzI2fV0=\" marker-end=\"url(#mermaidInkSvg_flowchart-v2-pointEnd)\"/><path d=\"M80.477,478L80.477,482.167C80.477,486.333,80.477,494.667,123.191,504.835C165.906,515.003,251.336,527.007,294.051,533.008L336.765,539.01\" id=\"L_B_I_0\" class=\"edge-thickness-normal edge-pattern-solid edge-thickness-normal edge-pattern-solid flowchart-link\" style=\";\" data-edge=\"true\" data-et=\"edge\" data-id=\"L_B_I_0\" data-points=\"W3sieCI6ODAuNDc2NTYyNSwieSI6NDc4fSx7IngiOjgwLjQ3NjU2MjUsInkiOjUwM30seyJ4IjozNDAuNzI2NTYyNSwieSI6NTM5LjU2NjQxMDUzNzg3MDV9XQ==\" marker-end=\"url(#mermaidInkSvg_flowchart-v2-pointEnd)\"/><path d=\"M556.059,478L556.059,482.167C556.059,486.333,556.059,494.667,548.204,502.705C540.349,510.744,524.64,518.488,516.785,522.36L508.931,526.231\" id=\"L_H_I_0\" class=\"edge-thickness-normal edge-pattern-solid edge-thickness-normal edge-pattern-solid flowchart-link\" style=\";\" data-edge=\"true\" data-et=\"edge\" data-id=\"L_H_I_0\" data-points=\"W3sieCI6NTU2LjA1ODU5Mzc1LCJ5Ijo0Nzh9LHsieCI6NTU2LjA1ODU5Mzc1LCJ5Ijo1MDN9LHsieCI6NTA1LjM0MzA3MzkxODI2OTIsInkiOjUyOH1d\" marker-end=\"url(#mermaidInkSvg_flowchart-v2-pointEnd)\"/></g><g class=\"edgeLabels\"><g class=\"edgeLabel\"><g class=\"label\" data-id=\"L_A_B_0\" transform=\"translate(0, 0)\"><foreignObject width=\"0\" height=\"0\"><div xmlns=\"http://www.w3.org/1999/xhtml\" class=\"labelBkg\" style=\"display: table-cell; white-space: nowrap; line-height: 1.5; max-width: 200px; text-align: center;\"><span class=\"edgeLabel\"></span></div></foreignObject></g></g><g class=\"edgeLabel\"><g class=\"label\" data-id=\"L_A_C_0\" transform=\"translate(0, 0)\"><foreignObject width=\"0\" height=\"0\"><div xmlns=\"http://www.w3.org/1999/xhtml\" class=\"labelBkg\" style=\"display: table-cell; white-space: nowrap; line-height: 1.5; max-width: 200px; text-align: center;\"><span class=\"edgeLabel\"></span></div></foreignObject></g></g><g class=\"edgeLabel\"><g class=\"label\" data-id=\"L_C_D_0\" transform=\"translate(0, 0)\"><foreignObject width=\"0\" height=\"0\"><div xmlns=\"http://www.w3.org/1999/xhtml\" class=\"labelBkg\" style=\"display: table-cell; white-space: nowrap; line-height: 1.5; max-width: 200px; text-align: center;\"><span class=\"edgeLabel\"></span></div></foreignObject></g></g><g class=\"edgeLabel\"><g class=\"label\" data-id=\"L_C_E_0\" transform=\"translate(0, 0)\"><foreignObject width=\"0\" height=\"0\"><div xmlns=\"http://www.w3.org/1999/xhtml\" class=\"labelBkg\" style=\"display: table-cell; white-space: nowrap; line-height: 1.5; max-width: 200px; text-align: center;\"><span class=\"edgeLabel\"></span></div></foreignObject></g></g><g class=\"edgeLabel\"><g class=\"label\" data-id=\"L_E_F_0\" transform=\"translate(0, 0)\"><foreignObject width=\"0\" height=\"0\"><div xmlns=\"http://www.w3.org/1999/xhtml\" class=\"labelBkg\" style=\"display: table-cell; white-space: nowrap; line-height: 1.5; max-width: 200px; text-align: center;\"><span class=\"edgeLabel\"></span></div></foreignObject></g></g><g class=\"edgeLabel\"><g class=\"label\" data-id=\"L_E_G_0\" transform=\"translate(0, 0)\"><foreignObject width=\"0\" height=\"0\"><div xmlns=\"http://www.w3.org/1999/xhtml\" class=\"labelBkg\" style=\"display: table-cell; white-space: nowrap; line-height: 1.5; max-width: 200px; text-align: center;\"><span class=\"edgeLabel\"></span></div></foreignObject></g></g><g class=\"edgeLabel\"><g class=\"label\" data-id=\"L_D_H_0\" transform=\"translate(0, 0)\"><foreignObject width=\"0\" height=\"0\"><div xmlns=\"http://www.w3.org/1999/xhtml\" class=\"labelBkg\" style=\"display: table-cell; white-space: nowrap; line-height: 1.5; max-width: 200px; text-align: center;\"><span class=\"edgeLabel\"></span></div></foreignObject></g></g><g class=\"edgeLabel\"><g class=\"label\" data-id=\"L_F_H_0\" transform=\"translate(0, 0)\"><foreignObject width=\"0\" height=\"0\"><div xmlns=\"http://www.w3.org/1999/xhtml\" class=\"labelBkg\" style=\"display: table-cell; white-space: nowrap; line-height: 1.5; max-width: 200px; text-align: center;\"><span class=\"edgeLabel\"></span></div></foreignObject></g></g><g class=\"edgeLabel\"><g class=\"label\" data-id=\"L_B_I_0\" transform=\"translate(0, 0)\"><foreignObject width=\"0\" height=\"0\"><div xmlns=\"http://www.w3.org/1999/xhtml\" class=\"labelBkg\" style=\"display: table-cell; white-space: nowrap; line-height: 1.5; max-width: 200px; text-align: center;\"><span class=\"edgeLabel\"></span></div></foreignObject></g></g><g class=\"edgeLabel\"><g class=\"label\" data-id=\"L_H_I_0\" transform=\"translate(0, 0)\"><foreignObject width=\"0\" height=\"0\"><div xmlns=\"http://www.w3.org/1999/xhtml\" class=\"labelBkg\" style=\"display: table-cell; white-space: nowrap; line-height: 1.5; max-width: 200px; text-align: center;\"><span class=\"edgeLabel\"></span></div></foreignObject></g></g></g><g class=\"nodes\"><g class=\"node default\" id=\"flowchart-A-0\" transform=\"translate(450.5703125, 35)\"><rect class=\"basic label-container\" style=\"\" x=\"-93.828125\" y=\"-27\" width=\"187.65625\" height=\"54\"/><g class=\"label\" style=\"\" transform=\"translate(-63.828125, -12)\"><rect/><foreignObject width=\"127.65625\" height=\"24\"><div xmlns=\"http://www.w3.org/1999/xhtml\" style=\"display: table-cell; white-space: nowrap; line-height: 1.5; max-width: 200px; text-align: center;\"><span class=\"nodeLabel\"><p><strong>records</strong> (<em>n</em> = 282)</p></span></div></foreignObject></g></g><g class=\"node default\" id=\"flowchart-B-1\" transform=\"translate(80.4765625, 451)\"><rect class=\"basic label-container\" style=\"\" x=\"-72.4765625\" y=\"-27\" width=\"144.953125\" height=\"54\"/><g class=\"label\" style=\"\" transform=\"translate(-42.4765625, -12)\"><rect/><foreignObject width=\"84.953125\" height=\"24\"><div xmlns=\"http://www.w3.org/1999/xhtml\" style=\"display: table-cell; white-space: nowrap; line-height: 1.5; max-width: 200px; text-align: center;\"><span class=\"nodeLabel\"><p>null (<em>n</em> = 12)</p></span></div></foreignObject></g></g><g class=\"node default\" id=\"flowchart-C-2\" transform=\"translate(556.05859375, 139)\"><rect class=\"basic label-container\" style=\"\" x=\"-92.9375\" y=\"-27\" width=\"185.875\" height=\"54\"/><g class=\"label\" style=\"\" transform=\"translate(-62.9375, -12)\"><rect/><foreignObject width=\"125.875\" height=\"24\"><div xmlns=\"http://www.w3.org/1999/xhtml\" style=\"display: table-cell; white-space: nowrap; line-height: 1.5; max-width: 200px; text-align: center;\"><span class=\"nodeLabel\"><p>non-null (<em>n</em> = 270)</p></span></div></foreignObject></g></g><g class=\"node default\" id=\"flowchart-D-3\" transform=\"translate(261.71875, 347)\"><rect class=\"basic label-container\" style=\"\" x=\"-116.5078125\" y=\"-27\" width=\"233.015625\" height=\"54\"/><g class=\"label\" style=\"\" transform=\"translate(-86.5078125, -12)\"><rect/><foreignObject width=\"173.015625\" height=\"24\"><div xmlns=\"http://www.w3.org/1999/xhtml\" style=\"display: table-cell; white-space: nowrap; line-height: 1.5; max-width: 200px; text-align: center;\"><span class=\"nodeLabel\"><p>non-duplicates (<em>n</em> = 237)</p></span></div></foreignObject></g></g><g class=\"node default\" id=\"flowchart-E-4\" transform=\"translate(704.0078125, 243)\"><rect class=\"basic label-container\" style=\"\" x=\"-96.046875\" y=\"-27\" width=\"192.09375\" height=\"54\"/><g class=\"label\" style=\"\" transform=\"translate(-66.046875, -12)\"><rect/><foreignObject width=\"132.09375\" height=\"24\"><div xmlns=\"http://www.w3.org/1999/xhtml\" style=\"display: table-cell; white-space: nowrap; line-height: 1.5; max-width: 200px; text-align: center;\"><span class=\"nodeLabel\"><p>duplicates (<em>n</em> = 33)</p></span></div></foreignObject></g></g><g class=\"node default\" id=\"flowchart-F-5\" transform=\"translate(850.3984375, 347)\"><rect class=\"basic label-container\" style=\"\" x=\"-113.390625\" y=\"-27\" width=\"226.78125\" height=\"54\"/><g class=\"label\" style=\"\" transform=\"translate(-83.390625, -12)\"><rect/><foreignObject width=\"166.78125\" height=\"24\"><div xmlns=\"http://www.w3.org/1999/xhtml\" style=\"display: table-cell; white-space: nowrap; line-height: 1.5; max-width: 200px; text-align: center;\"><span class=\"nodeLabel\"><p>duplicates kept (<em>n</em> = 15)</p></span></div></foreignObject></g></g><g class=\"node default\" id=\"flowchart-G-6\" transform=\"translate(557.6171875, 347)\"><rect class=\"basic label-container\" style=\"\" x=\"-129.390625\" y=\"-27\" width=\"258.78125\" height=\"54\"/><g class=\"label\" style=\"\" transform=\"translate(-99.390625, -12)\"><rect/><foreignObject width=\"198.78125\" height=\"24\"><div xmlns=\"http://www.w3.org/1999/xhtml\" style=\"display: table-cell; white-space: nowrap; line-height: 1.5; max-width: 200px; text-align: center;\"><span class=\"nodeLabel\"><p>duplicates removed (<em>n</em> = 18)</p></span></div></foreignObject></g></g><g class=\"node default\" id=\"flowchart-H-7\" transform=\"translate(556.05859375, 451)\"><rect class=\"basic label-container\" style=\"\" x=\"-88.5\" y=\"-27\" width=\"177\" height=\"54\"/><g class=\"label\" style=\"\" transform=\"translate(-58.5, -12)\"><rect/><foreignObject width=\"117\" height=\"24\"><div xmlns=\"http://www.w3.org/1999/xhtml\" style=\"display: table-cell; white-space: nowrap; line-height: 1.5; max-width: 200px; text-align: center;\"><span class=\"nodeLabel\"><p>unique (<em>n</em> = 252)</p></span></div></foreignObject></g></g><g class=\"node default\" id=\"flowchart-I-8\" transform=\"translate(450.5703125, 555)\"><rect class=\"basic label-container\" style=\"\" x=\"-109.84375\" y=\"-27\" width=\"219.6875\" height=\"54\"/><g class=\"label\" style=\"\" transform=\"translate(-79.84375, -12)\"><rect/><foreignObject width=\"159.6875\" height=\"24\"><div xmlns=\"http://www.w3.org/1999/xhtml\" style=\"display: table-cell; white-space: nowrap; line-height: 1.5; max-width: 200px; text-align: center;\"><span class=\"nodeLabel\"><p>deduplicated (<em>n</em> = 264)</p></span></div></foreignObject></g></g></g></g></g></svg>"
      ],
      "text/plain": [
       "<mermaid.__main__.Mermaid at 0x25629e67150>"
      ]
     },
     "execution_count": 86,
     "metadata": {},
     "output_type": "execute_result"
    }
   ],
   "source": [
    "import mermaid as md\n",
    "from mermaid.graph import Graph\n",
    "\n",
    "graph = Graph('example-graph', \"\"\"\n",
    "graph TD;\n",
    "    A[\"**records** (*n* = 282)\"];\n",
    "    B[\"null (*n* = 12)\"];\n",
    "    C[\"non-null (*n* = 270)\"];\n",
    "    D[\"non-duplicates (*n* = 237)\"];\n",
    "    E[\"duplicates (*n* = 33)\"];\n",
    "    F[\"duplicates kept (*n* = 15)\"];\n",
    "    G[\"duplicates removed (*n* = 18)\"];\n",
    "    H[\"unique (*n* = 252)\"];\n",
    "    I[\"deduplicated (*n* = 264)\"];\n",
    "\n",
    "    A --> B & C;\n",
    "    C --> D & E;\n",
    "    E --> F & G;\n",
    "    D & F --> H;\n",
    "    B & H --> I\n",
    "\"\"\")\n",
    "\n",
    "render = md.Mermaid(graph)\n",
    "render"
   ]
  },
  {
   "cell_type": "code",
   "execution_count": null,
   "id": "122f5ff0-f323-4b33-a17b-de46539e7a74",
   "metadata": {},
   "outputs": [],
   "source": []
  }
 ],
 "metadata": {
  "kernelspec": {
   "display_name": "Python 3 (ipykernel)",
   "language": "python",
   "name": "python3"
  },
  "language_info": {
   "codemirror_mode": {
    "name": "ipython",
    "version": 3
   },
   "file_extension": ".py",
   "mimetype": "text/x-python",
   "name": "python",
   "nbconvert_exporter": "python",
   "pygments_lexer": "ipython3",
   "version": "3.13.7"
  }
 },
 "nbformat": 4,
 "nbformat_minor": 5
}
