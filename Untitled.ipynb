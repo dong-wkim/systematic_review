{
 "cells": [
  {
   "cell_type": "code",
   "execution_count": 1,
   "id": "0643dd7b-8d9a-4e59-9b3e-3043d815e579",
   "metadata": {},
   "outputs": [
    {
     "name": "stdin",
     "output_type": "stream",
     "text": [
      "Enter file name:  records\n",
      "Enter the columns for which to deduplicate based on:  doi\n"
     ]
    }
   ],
   "source": [
    "import pandas as pd\n",
    "import numpy as np\n",
    "import mermaid as md\n",
    "from mermaid.graph import Graph\n",
    "\n",
    "def deduplicate(df, cols):\n",
    "    input_file_name = 'data/' + input('Enter file name: ') + '.csv'\n",
    "    df = pd.read_csv(input_file_name) # A (records)\n",
    "    cols_input = input('Enter the columns for which to deduplicate based on: ')\n",
    "    cols = [c.strip() for c in cols_input.split(',')]\n",
    "    output_file_name = 'data/' + '_'.join(cols) + '_deduplicated.csv'\n",
    "    \n",
    "    nulls_mask = df[cols].isnull().any(axis=1)\n",
    "    df_nulls = df[nulls_mask] # B\n",
    "    df_non_nulls = df[~nulls_mask] # C\n",
    "    \n",
    "    duplicates_mask = df_non_nulls.duplicated(subset = cols, keep = False)\n",
    "    df_non_duplicates = df_non_nulls[~duplicates_mask] # D\n",
    "    df_duplicates = df_non_nulls[duplicates_mask] # E\n",
    "    df_kept = df_duplicates.drop_duplicates(subset = cols, keep = 'first')\n",
    "    df_removed = df_duplicates[~df_duplicates.index.isin(df_kept.index)]\n",
    "    df_unique = df_non_nulls.drop_duplicates(subset = cols, keep = 'first') # df of unique\n",
    "    df_deduplicated = pd.concat([df_unique, df_nulls], ignore_index=True) # df of unique + df of nulls\n",
    "\n",
    "    results = {\n",
    "        \"records\": len(df),\n",
    "        \"nulls\": len(df_nulls),\n",
    "        \"non_nulls\": len(df_non_nulls),\n",
    "        \"non_duplicates\": len(df_non_duplicates),\n",
    "        \"duplicates\": len(df_duplicates),\n",
    "        \"removed\": len(df_removed),\n",
    "        \"kept\": len(df_kept),\n",
    "        \"unique\": len(df_unique),\n",
    "        \"deduplicated\": len(df_deduplicated)\n",
    "    }\n",
    "    \n",
    "    df_deduplicated.to_csv(output_file_name, index = False)\n",
    "    df_removed.to_csv(output_file_name.replace('.csv', '_removed.csv'), index = False)\n",
    "\n",
    "    return results, df_deduplicated, df_kept, df_removed\n",
    "\n",
    "if __name__ == \"__main__\":\n",
    "    results, df_deduplicated, df_kept, df_removed = deduplicate(df=None, cols=None)\n",
    "    \n",
    "    graph_text = f\"\"\"\n",
    "    graph TD;\n",
    "    A[\"**records** (*n* = {results['records']})\"];\n",
    "    B[\"null (*n* = {results['nulls']})\"];\n",
    "    C[\"non-null (*n* = {results['non_nulls']})\"];\n",
    "    D[\"non-duplicates (*n* = {results['non_duplicates']})\"];\n",
    "    E[\"duplicates (*n* = {results['duplicates']})\"];\n",
    "    F[\"duplicates kept (*n* = {results['kept']})\"];\n",
    "    G[\"duplicates removed (*n* = {results['removed']})\"];\n",
    "    H[\"unique (*n* = {results['unique']})\"];\n",
    "    I[\"deduplicated (*n* = {results['deduplicated']})\"];\n",
    "    \n",
    "    A --> B & C;\n",
    "    C --> D & E;\n",
    "    E --> F & G;\n",
    "    D & F --> H;\n",
    "    B & H --> I;\n",
    "    \"\"\"\n",
    "    \n",
    "    graph = Graph('PRISMA_flowchart', graph_text)\n",
    "    render = md.Mermaid(graph)\n",
    "    render"
   ]
  },
  {
   "cell_type": "code",
   "execution_count": null,
   "id": "b95fbb5e-0e7f-410d-983b-bfe8a9d318f4",
   "metadata": {},
   "outputs": [],
   "source": []
  }
 ],
 "metadata": {
  "kernelspec": {
   "display_name": "Python 3 (ipykernel)",
   "language": "python",
   "name": "python3"
  },
  "language_info": {
   "codemirror_mode": {
    "name": "ipython",
    "version": 3
   },
   "file_extension": ".py",
   "mimetype": "text/x-python",
   "name": "python",
   "nbconvert_exporter": "python",
   "pygments_lexer": "ipython3",
   "version": "3.13.7"
  }
 },
 "nbformat": 4,
 "nbformat_minor": 5
}
