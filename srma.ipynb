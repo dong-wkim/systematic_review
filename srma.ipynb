{
 "cells": [
  {
   "cell_type": "markdown",
   "id": "e16ca440-96c8-43ef-9d58-569ed27c7926",
   "metadata": {},
   "source": [
    "# Systematic Review and Meta-Analysis Documentation\n",
    "\n",
    "Idk im tired and hungry"
   ]
  },
  {
   "cell_type": "markdown",
   "id": "aeceb371-df67-4263-b4e1-72173030bade",
   "metadata": {},
   "source": [
    "---"
   ]
  },
  {
   "cell_type": "markdown",
   "id": "c8199b27-891b-4e8e-b0a9-cbc820ffcc76",
   "metadata": {},
   "source": [
    "## Deduplication\n",
    "\n",
    "Documentation of python scripts used for deduplication of search results (records).\n",
    "\n",
    "2025-10-22: Created custom python script (path: '../src/**deduplication.py**') to deduplicate based on selected column(s).   \n",
    "2025-10-22: Performed using doi, study_id (last name of first author + year of publication), and short_title (first 25 characters, trimmed and case-insensitized title).  \n",
    "2025-10-23: TODO - standardize journal names, and create loop-function for standalone deduplication based on multiple columns in a step-wise fashion. "
   ]
  },
  {
   "cell_type": "code",
   "execution_count": 33,
   "id": "7c1499f1-b0c7-4018-a7a4-4a726023bb82",
   "metadata": {},
   "outputs": [],
   "source": [
    "import pandas as pd\n",
    "df = pd.read_csv('data/records.csv')\n",
    "df['study'] = df['first_author'] + ' ' + df['year'].astype(str)\n",
    "df.to_csv('data/records-revised.csv', index = False)"
   ]
  },
  {
   "cell_type": "code",
   "execution_count": 38,
   "id": "3abbd052-922d-4985-84fb-e4ec7a7449cb",
   "metadata": {},
   "outputs": [
    {
     "name": "stdin",
     "output_type": "stream",
     "text": [
      "Enter file name:  doi_deduplicated\n",
      "Enter the columns for which to deduplicate based on:  study\n"
     ]
    }
   ],
   "source": [
    "import pandas as pd\n",
    "import numpy as np\n",
    "import mermaid as md\n",
    "from mermaid.graph import Graph\n",
    "import subprocess\n",
    "\n",
    "def deduplicate(df, cols):\n",
    "    input_file_name = 'data/' + input('Enter file name: ') + '.csv'\n",
    "    df = pd.read_csv(input_file_name) # A (records)\n",
    "    cols_input = input('Enter the columns for which to deduplicate based on: ')\n",
    "    cols = [c.strip() for c in cols_input.split(',')]\n",
    "    output_file_name = 'data/' + '_'.join(cols) + '_deduplicated.csv'\n",
    "    prisma_file_name = output_file_name.replace('.csv', '.mmd')\n",
    "\n",
    "    nulls_mask = df[cols].isnull().any(axis=1)\n",
    "    df_nulls = df[nulls_mask] # B\n",
    "    df_non_nulls = df[~nulls_mask] # C\n",
    "    \n",
    "    duplicates_mask = df_non_nulls.duplicated(subset = cols, keep = False)\n",
    "    df_non_duplicates = df_non_nulls[~duplicates_mask] # D\n",
    "    df_duplicates = df_non_nulls[duplicates_mask] # E\n",
    "    df_kept = df_duplicates.drop_duplicates(subset = cols, keep = 'first')\n",
    "    df_removed = df_duplicates[~df_duplicates.index.isin(df_kept.index)]\n",
    "    df_unique = df_non_nulls.drop_duplicates(subset = cols, keep = 'first') # df of unique\n",
    "    df_deduplicated = pd.concat([df_unique, df_nulls], ignore_index=True) # df of unique + df of nulls\n",
    "\n",
    "    results = {\n",
    "        \"records\": len(df),\n",
    "        \"nulls\": len(df_nulls),\n",
    "        \"non_nulls\": len(df_non_nulls),\n",
    "        \"non_duplicates\": len(df_non_duplicates),\n",
    "        \"duplicates\": len(df_duplicates),\n",
    "        \"removed\": len(df_removed),\n",
    "        \"kept\": len(df_kept),\n",
    "        \"unique\": len(df_unique),\n",
    "        \"deduplicated\": len(df_deduplicated)\n",
    "    }\n",
    "    \n",
    "    df_deduplicated.to_csv(output_file_name, index = False)\n",
    "    df_removed.to_csv(output_file_name.replace('.csv', '_removed.csv'), index = False)\n",
    "\n",
    "    \n",
    "    return results, df_deduplicated, df_kept, df_removed, output_file_name, prisma_file_name\n",
    "    print(results)\n",
    "if __name__ == \"__main__\":\n",
    "    results, df_deduplicated, df_kept, df_removed, output_file_name, prisma_file_name = deduplicate(df=None, cols=None)\n",
    "    \n",
    "    graph_text = f\"\"\"---\n",
    "config:\n",
    "  theme: neutral\n",
    "  curve: stepBefore\n",
    "---\n",
    "graph TD;\n",
    "A[\"**records** (*n* = {results['records']})\"];\n",
    "B[\"null (*n* = {results['nulls']})\"];\n",
    "C[\"non-null (*n* = {results['non_nulls']})\"];\n",
    "D[\"non-duplicates (*n* = {results['non_duplicates']})\"];\n",
    "E[\"duplicates (*n* = {results['duplicates']})\"];\n",
    "F[\"duplicates kept (*n* = {results['kept']})\"];\n",
    "G[\"duplicates removed (*n* = {results['removed']})\"];\n",
    "H[\"unique (*n* = {results['unique']})\"];\n",
    "I[\"deduplicated (*n* = {results['deduplicated']})\"];\n",
    "\n",
    "A --> B & C;\n",
    "C --> D & E;\n",
    "E --> F & G;\n",
    "D & F --> H;\n",
    "B & H --> I\"\"\"\n",
    "    \n",
    "\n",
    "    with open(prisma_file_name, \"w\") as f:\n",
    "        f.write(graph_text)"
   ]
  },
  {
   "cell_type": "markdown",
   "id": "71411a6b-14df-498a-9995-cd06adbf13ae",
   "metadata": {},
   "source": [
    "---"
   ]
  }
 ],
 "metadata": {
  "kernelspec": {
   "display_name": "Python 3 (ipykernel)",
   "language": "python",
   "name": "python3"
  },
  "language_info": {
   "codemirror_mode": {
    "name": "ipython",
    "version": 3
   },
   "file_extension": ".py",
   "mimetype": "text/x-python",
   "name": "python",
   "nbconvert_exporter": "python",
   "pygments_lexer": "ipython3",
   "version": "3.13.7"
  }
 },
 "nbformat": 4,
 "nbformat_minor": 5
}
